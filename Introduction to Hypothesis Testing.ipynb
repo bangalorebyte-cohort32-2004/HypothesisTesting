{
 "cells": [
  {
   "cell_type": "code",
   "execution_count": null,
   "metadata": {},
   "outputs": [],
   "source": []
  },
  {
   "cell_type": "markdown",
   "metadata": {},
   "source": [
    "# Hypothesis testing with Scipy\n",
    "---\n",
    "\n",
    "Consider below hypothetical Porblem statements. <br>\n",
    "\n",
    "\n",
    "### Scenario 1:\n",
    "\n",
    "We're testing a new drug to raise good\n",
    "cholesterol levels. After six weeks, the mean\n",
    "cholesterol level in the treatment group is\n",
    "slightly higher than in the control group.\n",
    "Does our new drug work?\n",
    "\n",
    "\n",
    "![](images_hypo/hypo1.png)\n",
    " \n",
    "\n",
    "### Scenario 2:\n",
    "\n",
    "Monthly subscriptions to our streaming\n",
    "service dipped after we released a new\n",
    "version.\n",
    "Is there a real change in subscription rates?\n",
    "\n",
    "![](images_hypo/hypo2.png)"
   ]
  },
  {
   "cell_type": "code",
   "execution_count": 16,
   "metadata": {},
   "outputs": [
    {
     "data": {
      "text/plain": [
       "<matplotlib.axes._subplots.AxesSubplot at 0x7fc574f7aad0>"
      ]
     },
     "execution_count": 16,
     "metadata": {},
     "output_type": "execute_result"
    },
    {
     "data": {
      "image/png": "[encoded data removed]",
      "text/plain": [
       "<Figure size 432x288 with 1 Axes>"
      ]
     },
     "metadata": {},
     "output_type": "display_data"
    }
   ],
   "source": [
    "import seaborn as sns\n",
    "sns.set(style=\"whitegrid\")\n",
    "import numpy as np\n",
    "\n",
    "sns.boxplot(data=[np.random.normal(loc=50, scale=25, size=30),np.random.normal(loc=50, scale=25, size=30),np.random.normal(loc=50, scale=25, size=30)])"
   ]
  },
  {
   "cell_type": "markdown",
   "metadata": {},
   "source": [
    "- What does it mean to be significant? <br>\n",
    "An observed difference between two quantities is **probably not due to chance**.\n",
    "\n",
    "- What does it mean to be not significant? <br>\n",
    "There is not enough evidence to say that an observed difference between two\n",
    "quantities is not random.\n",
    "OR\n",
    "If there is a difference, it is smaller than we care about."
   ]
  },
  {
   "cell_type": "markdown",
   "metadata": {},
   "source": [
    "### Why do we need to learn hypothesis testing?"
   ]
  },
  {
   "cell_type": "markdown",
   "metadata": {},
   "source": [
    "### Hypothesis Testing\n",
    "\n",
    "- Reframes our qualitative question (\"Is this difference real?\") into a\n",
    "mathematical question <br>\n",
    "(\"What is the probability that the difference I am\n",
    "observing is due to chance?\")\n",
    "\n",
    "- Goal: **reject the null hypothesis**: <br>\n",
    "\"The two populations I am comparing are\n",
    "identical and the differences I observe are due to chance.\"\n",
    "\n",
    "- **We reject the null hypothesis by proving that the proving that it unlikely.** <br>\n",
    "We do that by **calculating the p-value** (using a hypothesis test). We generally\n",
    "want p < 0.05 (i.e., there’s only a 5% chance that two identical distributions\n",
    "could have produced these results)"
   ]
  },
  {
   "cell_type": "markdown",
   "metadata": {},
   "source": [
    "## Question 1:\n",
    "\n",
    "Is my data Categorical or Numerical? Some examples..\n",
    "\n",
    "- A professor expects an exam average to be roughly\n",
    "75%, and wants to know if the actual scores line up\n",
    "with this expectation. Was the test actually too easy\n",
    "or too hard?\n",
    "- A PM for a website wants to compare the time spent\n",
    "on different versions of a homepage. Does one\n",
    "version make users stay on the page significantly\n",
    "longer?\n",
    "- A pollster wants to know if men and women have\n",
    "significantly different yogurt flavor preferences.\n",
    "Does a result where men more often answer\n",
    "\"chocolate\" as their favorite reflect a significant\n",
    "difference in the population?\n",
    "- Do different age groups have significantly different\n",
    "emotional reactions to different ads?"
   ]
  },
  {
   "cell_type": "markdown",
   "metadata": {},
   "source": [
    "### Question 2:\n",
    "\n",
    "How many samples am I comparing?\n",
    "\n",
    "- 1 Sample (i.e., comparing to an ideal target) <br>\n",
    "i.e., comparing an actual result against a desired target or KPI\n",
    "- 2 Sample <br>\n",
    "i.e., comparing a control and treatment group or an A/B test\n",
    "- More than 2 Sample <br>\n",
    "i.e., comparing three different variants of a landing page"
   ]
  },
  {
   "cell_type": "markdown",
   "metadata": {},
   "source": [
    "# Type of Tests based on samples\n",
    "---\n",
    "\n",
    "\n",
    "![](images_hypo/hypo-3.png)"
   ]
  },
  {
   "cell_type": "markdown",
   "metadata": {},
   "source": [
    "## T-Test (One Sample)\n",
    "---\n",
    "\n",
    "![](images_hypo/hypo_Ttest.png)"
   ]
  },
  {
   "cell_type": "markdown",
   "metadata": {},
   "source": [
    "## T-Test (2 Sample)\n",
    "---\n",
    "\n",
    "![](images_hypo/hypo-ttest_2.png)"
   ]
  },
  {
   "cell_type": "markdown",
   "metadata": {},
   "source": [
    "# Anova\n",
    "---\n",
    "\n",
    "![](images_hypo/hypo_anova.png)"
   ]
  },
  {
   "cell_type": "markdown",
   "metadata": {},
   "source": [
    "- Example Problem :  [Sample for ANOVA](http://pytolearn.csd.auth.gr/d1-hyptest/12/anova-one.html)\n",
    "- Reference for Anova : [Anova One Way](http://pytolearn.csd.auth.gr/d1-hyptest/12/anova-one.html)"
   ]
  },
  {
   "cell_type": "markdown",
   "metadata": {},
   "source": [
    "# Tukey Test\n",
    "---\n",
    "\n",
    "![](images_hypo/hypo_tukey.png)"
   ]
  },
  {
   "cell_type": "markdown",
   "metadata": {},
   "source": [
    "## Binomial Test\n",
    "---\n",
    "\n",
    "![](images_hypo/hypo_binom.png)"
   ]
  },
  {
   "cell_type": "markdown",
   "metadata": {},
   "source": [
    "# Chi Squared Test\n",
    "---\n",
    "\n",
    "![](images_hypo/hypo_chi_squared.png)"
   ]
  },
  {
   "cell_type": "code",
   "execution_count": null,
   "metadata": {},
   "outputs": [],
   "source": []
  },
  {
   "cell_type": "code",
   "execution_count": null,
   "metadata": {},
   "outputs": [],
   "source": []
  }
 ],
 "metadata": {
  "kernelspec": {
   "display_name": "Python 3",
   "language": "python",
   "name": "python3"
  },
  "language_info": {
   "codemirror_mode": {
    "name": "ipython",
    "version": 3
   },
   "file_extension": ".py",
   "mimetype": "text/x-python",
   "name": "python",
   "nbconvert_exporter": "python",
   "pygments_lexer": "ipython3",
   "version": "3.7.5"
  }
 },
 "nbformat": 4,
 "nbformat_minor": 4
}
